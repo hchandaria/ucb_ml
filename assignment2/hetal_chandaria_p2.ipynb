{
 "cells": [
  {
   "cell_type": "markdown",
   "metadata": {},
   "source": [
    "# Project 2: Topic Classification"
   ]
  },
  {
   "cell_type": "markdown",
   "metadata": {},
   "source": [
    "In this project, you'll work with text data from newsgroup postings on a variety of topics. You'll train classifiers to distinguish between the topics based on the text of the posts. Whereas with digit classification, the input is relatively dense: a 28x28 matrix of pixels, many of which are non-zero, here we'll represent each document with a \"bag-of-words\" model. As you'll see, this makes the feature representation quite sparse -- only a few words of the total vocabulary are active in any given document. The bag-of-words assumption here is that the label depends only on the words; their order is not important.\n",
    "\n",
    "The SK-learn documentation on feature extraction will prove useful:\n",
    "http://scikit-learn.org/stable/modules/feature_extraction.html\n",
    "\n",
    "Each problem can be addressed succinctly with the included packages -- please don't add any more. Grading will be based on writing clean, commented code, along with a few short answers.\n",
    "\n",
    "As always, you're welcome to work on the project in groups and discuss ideas on the course wall, but please prepare your own write-up and write your own code."
   ]
  },
  {
   "cell_type": "code",
   "execution_count": 1,
   "metadata": {
    "collapsed": false
   },
   "outputs": [],
   "source": [
    "# This tells matplotlib not to try opening a new window for each plot.\n",
    "%matplotlib inline\n",
    "\n",
    "# General libraries.\n",
    "import re\n",
    "import numpy as np\n",
    "import matplotlib.pyplot as plt\n",
    "\n",
    "# SK-learn libraries for learning.\n",
    "from sklearn.pipeline import Pipeline\n",
    "from sklearn.neighbors import KNeighborsClassifier\n",
    "from sklearn.linear_model import LogisticRegression\n",
    "from sklearn.naive_bayes import BernoulliNB\n",
    "from sklearn.naive_bayes import MultinomialNB\n",
    "from sklearn.grid_search import GridSearchCV\n",
    "\n",
    "# SK-learn libraries for evaluation.\n",
    "from sklearn.metrics import confusion_matrix\n",
    "from sklearn import metrics\n",
    "from sklearn.metrics import classification_report\n",
    "\n",
    "# SK-learn library for importing the newsgroup data.\n",
    "from sklearn.datasets import fetch_20newsgroups\n",
    "\n",
    "# SK-learn libraries for feature extraction from text.\n",
    "from sklearn.feature_extraction.text import *"
   ]
  },
  {
   "cell_type": "markdown",
   "metadata": {},
   "source": [
    "Load the data, stripping out metadata so that we learn classifiers that only use textual features. By default, newsgroups data is split into train and test sets. We further split the test so we have a dev set. Note that we specify 4 categories to use for this project. If you remove the categories argument from the fetch function, you'll get all 20 categories."
   ]
  },
  {
   "cell_type": "code",
   "execution_count": 2,
   "metadata": {
    "collapsed": false
   },
   "outputs": [
    {
     "name": "stdout",
     "output_type": "stream",
     "text": [
      "training label shape: (2034,)\n",
      "test label shape: (677,)\n",
      "dev label shape: (676,)\n",
      "labels names: ['alt.atheism', 'comp.graphics', 'sci.space', 'talk.religion.misc']\n"
     ]
    }
   ],
   "source": [
    "categories = ['alt.atheism', 'talk.religion.misc', 'comp.graphics', 'sci.space']\n",
    "newsgroups_train = fetch_20newsgroups(subset='train',\n",
    "                                      remove=('headers', 'footers', 'quotes'),\n",
    "                                      categories=categories)\n",
    "newsgroups_test = fetch_20newsgroups(subset='test',\n",
    "                                     remove=('headers', 'footers', 'quotes'),\n",
    "                                     categories=categories)\n",
    "\n",
    "num_test = len(newsgroups_test.target)\n",
    "test_data, test_labels = newsgroups_test.data[num_test/2:], newsgroups_test.target[num_test/2:]\n",
    "dev_data, dev_labels = newsgroups_test.data[:num_test/2], newsgroups_test.target[:num_test/2]\n",
    "train_data, train_labels = newsgroups_train.data, newsgroups_train.target\n",
    "\n",
    "print 'training label shape:', train_labels.shape\n",
    "print 'test label shape:', test_labels.shape\n",
    "print 'dev label shape:', dev_labels.shape\n",
    "print 'labels names:', newsgroups_train.target_names"
   ]
  },
  {
   "cell_type": "markdown",
   "metadata": {},
   "source": [
    "(1) For each of the first 5 training examples, print the text of the message along with the label."
   ]
  },
  {
   "cell_type": "code",
   "execution_count": 50,
   "metadata": {
    "collapsed": false
   },
   "outputs": [
    {
     "ename": "NameError",
     "evalue": "name 'textwrap' is not defined",
     "output_type": "error",
     "traceback": [
      "\u001b[0;31m---------------------------------------------------------------------------\u001b[0m",
      "\u001b[0;31mNameError\u001b[0m                                 Traceback (most recent call last)",
      "\u001b[0;32m<ipython-input-50-27db4faacc62>\u001b[0m in \u001b[0;36m<module>\u001b[0;34m()\u001b[0m\n\u001b[1;32m     35\u001b[0m \u001b[0mdata\u001b[0m \u001b[0;34m=\u001b[0m \u001b[0;34m[\u001b[0m\u001b[0;34m(\u001b[0m\u001b[0mtrain_data\u001b[0m\u001b[0;34m[\u001b[0m\u001b[0;36m0\u001b[0m\u001b[0;34m]\u001b[0m\u001b[0;34m,\u001b[0m\u001b[0mtrain_labels\u001b[0m\u001b[0;34m[\u001b[0m\u001b[0;36m0\u001b[0m\u001b[0;34m]\u001b[0m\u001b[0;34m)\u001b[0m\u001b[0;34m,\u001b[0m\u001b[0;34m(\u001b[0m\u001b[0mtrain_data\u001b[0m\u001b[0;34m[\u001b[0m\u001b[0;36m1\u001b[0m\u001b[0;34m]\u001b[0m\u001b[0;34m,\u001b[0m\u001b[0mtrain_labels\u001b[0m\u001b[0;34m[\u001b[0m\u001b[0;36m1\u001b[0m\u001b[0;34m]\u001b[0m\u001b[0;34m)\u001b[0m\u001b[0;34m]\u001b[0m\u001b[0;34m\u001b[0m\u001b[0m\n\u001b[1;32m     36\u001b[0m \u001b[0;31m#print_table((\"Text\", \"Label\"),data )\u001b[0m\u001b[0;34m\u001b[0m\u001b[0;34m\u001b[0m\u001b[0m\n\u001b[0;32m---> 37\u001b[0;31m \u001b[0;32mprint\u001b[0m \u001b[0mtextwrap\u001b[0m\u001b[0;34m(\u001b[0m\u001b[0mtrain_data\u001b[0m\u001b[0;34m[\u001b[0m\u001b[0;36m0\u001b[0m\u001b[0;34m]\u001b[0m\u001b[0;34m)\u001b[0m\u001b[0;34m\u001b[0m\u001b[0m\n\u001b[0m",
      "\u001b[0;31mNameError\u001b[0m: name 'textwrap' is not defined"
     ]
    }
   ],
   "source": [
    "def print_table(labels, cell_data):\n",
    "    fig=plt.figure()\n",
    "    nrows, ncols = len(cell_data)+1, len(labels)\n",
    "    hcell, wcell = 10, 2\n",
    "    #\\hpad, wpad = 0.5, 0.5    \n",
    "    #fig=plt.figure(figsize=(ncols*wcell+wpad, nrows*hcell+hpad))\n",
    "    ax = fig.add_subplot(111)\n",
    "    ax.axis('off')\n",
    "    the_table = ax.table(cellText=cell_data,\n",
    "              colLabels=labels,loc='left')\n",
    "    table_props = the_table.properties()\n",
    "    table_cells = table_props['child_artists']\n",
    "    for cell in table_cells: cell.set_height(0.4)\n",
    "    the_table.set_fontsize(14)\n",
    "    #the_table.scale(2,2)\n",
    "    plt.show()\n",
    "    \n",
    "def P1(num_examples=5):\n",
    "    ### STUDENT START ###\n",
    "    try:\n",
    "        num_examples = int(num_examples)\n",
    "        if(num_examples == 0):\n",
    "            print \"Please enter number of samples to be greater than 0\"\n",
    "            raise \n",
    "        width = 200\n",
    "        for i in range(num_examples):\n",
    "            \n",
    "             print 'Example: %3.0f Text Message:%s Text Label: %s' %(i+1,train_data[i],newsgroups_train.target_names[train_labels[i]])\n",
    "    except Exception as e:\n",
    "        print \"Exception Occured: \", e.args\n",
    "        raise\n",
    "    \n",
    "### STUDENT END ###\n",
    "#P1(5)\n",
    "data = [(train_data[0],train_labels[0]),(train_data[1],train_labels[1])]\n",
    "print_table((\"Text\", \"Label\"),data )"
   ]
  },
  {
   "cell_type": "markdown",
   "metadata": {},
   "source": [
    "(2) Use CountVectorizer to turn the raw training text into feature vectors. You should use the fit_transform function, which makes 2 passes through the data: first it computes the vocabulary (\"fit\"), second it converts the raw text into feature vectors using the vocabulary (\"transform\").\n",
    "\n",
    "The vectorizer has a lot of options. To get familiar with some of them, write code to answer these questions:\n",
    "\n",
    "a. The output of the transform (also of fit_transform) is a sparse matrix: http://docs.scipy.org/doc/scipy-0.14.0/reference/generated/scipy.sparse.csr_matrix.html. What is the size of the vocabulary? What is the average number of non-zero features per example? What fraction of the entries in the matrix are non-zero? Hint: use \"nnz\" and \"shape\" attributes.\n",
    "\n",
    "b. What are the 0th and last feature strings (in alphabetical order)? Hint: use the vectorizer's get_feature_names function.\n",
    "\n",
    "c. Specify your own vocabulary with 4 words: [\"atheism\", \"graphics\", \"space\", \"religion\"]. Confirm the training vectors are appropriately shaped. Now what's the average number of non-zero features per example?\n",
    "\n",
    "d. Instead of extracting unigram word features, use \"analyzer\" and \"ngram_range\" to extract bigram and trigram character features. What size vocabulary does this yield?\n",
    "\n",
    "e. Use the \"min_df\" argument to prune words that appear in fewer than 10 documents. What size vocabulary does this yield?\n",
    "\n",
    "f. Using the standard CountVectorizer, what fraction of the words in the dev data are missing from the vocabulary? Hint: build a vocabulary for both train and dev and look at the size of the difference."
   ]
  },
  {
   "cell_type": "code",
   "execution_count": 56,
   "metadata": {
    "collapsed": false
   },
   "outputs": [
    {
     "name": "stdout",
     "output_type": "stream",
     "text": [
      "Answer to 2.a :\n",
      "Size of vocabulary:  26879\n",
      "Average number of non-zero features per example:  96.706\n",
      "Fraction of entries in the matrix that are non zero:  0.004\n",
      "\n",
      "Answer to 2.b :\n",
      "0th feture: 00  and last feature: zyxel\n",
      "\n",
      "Answer to 2.c:\n",
      "Size of vocabulary with custom vocabulary: 4\n",
      "Average number of non-zero feaures per example:  0.268\n",
      "\n",
      "Answer to 2.d :\n",
      "Size of vocabulary for bigram & trigram:  35478\n",
      "(2034, 35478)\n",
      "\n",
      "Answer to 2.e :\n",
      "Size of vocabulary with Min-df = 10 :  3064\n",
      "\n",
      "Answer to 2.f : \n",
      "Number of features common between training and dev set:  12219\n",
      "Fraction missing  0.248\n"
     ]
    }
   ],
   "source": [
    "def P2():\n",
    "    ### STUDENT START ###\n",
    "    try:\n",
    "        ##### 2.a\n",
    "        vectorizer = CountVectorizer(min_df=1)\n",
    "        X = vectorizer.fit_transform(train_data)\n",
    "        print 'Answer to 2.a :'\n",
    "        print 'Size of vocabulary: ', X.shape[1]\n",
    "        print 'Average number of non-zero features per example: ', round(1.0 * X.nnz/X.shape[0],3)\n",
    "        print 'Fraction of entries in the matrix that are non zero: ', round(1.0 * X.nnz/ (X.shape[1] * X.shape[0]),3)\n",
    "        \n",
    "        ###### 2.b\n",
    "        feature_names = vectorizer.get_feature_names()\n",
    "        #print 'Feature set:',feature_names\n",
    "        #feature_names.sort()\n",
    "        print '\\nAnswer to 2.b :'\n",
    "        print '0th feture: %s  and last feature: %s' %(feature_names[0], feature_names[len(feature_names)-1])\n",
    "        \n",
    "        ###### 2.c\n",
    "        # setting up the custome vocabulary\n",
    "        cust_vocab = ['atheism', 'religion', 'graphics', 'space']\n",
    "        # initialise the Count vectorizer with the custom vocabulary\n",
    "        cust_vectorizer = CountVectorizer(min_df=1,vocabulary = cust_vocab )\n",
    "        X = cust_vectorizer.fit_transform(train_data)\n",
    "        print '\\nAnswer to 2.c:'\n",
    "        print 'Size of vocabulary with custom vocabulary:',X.shape[1]\n",
    "        print 'Average number of non-zero feaures per example: ', round(1.0 * X.nnz/X.shape[0],3)\n",
    "        \n",
    "        ###### 2.d\n",
    "        bigram_vectorizer = CountVectorizer(analyzer='char',ngram_range=(2,3), min_df=1)\n",
    "        bi_X = bigram_vectorizer.fit_transform(train_data)\n",
    "        print '\\nAnswer to 2.d :'\n",
    "        print 'Size of vocabulary for bigram & trigram: ', bi_X.shape[1]\n",
    "        #print bigram_vectorizer.vocabulary_\n",
    "        \n",
    "        \n",
    "        \n",
    "        ###### 2.e\n",
    "        min_vectorizer = CountVectorizer(min_df=10)\n",
    "        X = min_vectorizer.fit_transform(train_data)\n",
    "        print '\\nAnswer to 2.e :'\n",
    "        print 'Size of vocabulary with Min-df = 10 : ', X.shape[1]\n",
    "        \n",
    "        ###### 2.f\n",
    "        train_vectorizer,dev_vectorizer1 = CountVectorizer(encoding='utf8'),CountVectorizer(encoding='utf8')\n",
    "        X_train = train_vectorizer.fit(train_data)\n",
    "        X_dev = dev_vectorizer1.fit(dev_data)\n",
    "        print '\\nAnswer to 2.f : '\n",
    "        # Determine how many features are common between training and dev set\n",
    "        common =  len(list(set(X_train.get_feature_names()) & set(X_dev.get_feature_names())))\n",
    "        print 'Number of features common between training and dev set: ', common\n",
    "        print \"Fraction missing \", round(1.0*(len(X_dev.get_feature_names())-common)/len(X_dev.get_feature_names()),3)\n",
    "\n",
    "        \n",
    "    except Exception as e:\n",
    "        print \"Exception Occured: \", e.args\n",
    "        raise\n",
    "\n",
    "### STUDENT END ###\n",
    "P2()"
   ]
  },
  {
   "cell_type": "markdown",
   "metadata": {},
   "source": [
    "(3) Use the default CountVectorizer options and report the f1 score (use metrics.f1_score) for a k nearest neighbors classifier; find the optimal value for k. Also fit a Multinomial Naive Bayes model and find the optimal value for alpha. Finally, fit a logistic regression model and find the optimal value for the regularization strength C using l2 regularization. A few questions:\n",
    "\n",
    "a. Why doesn't nearest neighbors work well for this problem?\n",
    "\n",
    "b. Any ideas why logistic regression doesn't work as well as Naive Bayes?\n",
    "\n",
    "c. Logistic regression estimates a weight vector for each class, which you can access with the coef\\_ attribute. Output the sum of the squared weight values for each class for each setting of the C parameter. Briefly explain the relationship between the sum and the value of C."
   ]
  },
  {
   "cell_type": "code",
   "execution_count": 103,
   "metadata": {
    "collapsed": false
   },
   "outputs": [
    {
     "name": "stdout",
     "output_type": "stream",
     "text": [
      "Exception Occured:  (\"All intermediate steps a the chain should be transforms and implement fit and transform 'MultinomialNB(alpha=1.0, class_prior=None, fit_prior=True)' (type <class 'sklearn.naive_bayes.MultinomialNB'>) doesn't)\",)\n"
     ]
    },
    {
     "ename": "TypeError",
     "evalue": "All intermediate steps a the chain should be transforms and implement fit and transform 'MultinomialNB(alpha=1.0, class_prior=None, fit_prior=True)' (type <class 'sklearn.naive_bayes.MultinomialNB'>) doesn't)",
     "output_type": "error",
     "traceback": [
      "\u001b[0;31m---------------------------------------------------------------------------\u001b[0m",
      "\u001b[0;31mTypeError\u001b[0m                                 Traceback (most recent call last)",
      "\u001b[0;32m<ipython-input-103-3a1e4bc7b6e1>\u001b[0m in \u001b[0;36m<module>\u001b[0;34m()\u001b[0m\n\u001b[1;32m     56\u001b[0m \u001b[0;34m\u001b[0m\u001b[0m\n\u001b[1;32m     57\u001b[0m     \u001b[0;31m### STUDENT END ###\u001b[0m\u001b[0;34m\u001b[0m\u001b[0;34m\u001b[0m\u001b[0m\n\u001b[0;32m---> 58\u001b[0;31m \u001b[0mP3\u001b[0m\u001b[0;34m(\u001b[0m\u001b[0;34m)\u001b[0m\u001b[0;34m\u001b[0m\u001b[0m\n\u001b[0m",
      "\u001b[0;32m<ipython-input-103-3a1e4bc7b6e1>\u001b[0m in \u001b[0;36mP3\u001b[0;34m()\u001b[0m\n\u001b[1;32m     14\u001b[0m                 \u001b[0;31m#( 'clf', LogisticRegression()),\u001b[0m\u001b[0;34m\u001b[0m\u001b[0;34m\u001b[0m\u001b[0m\n\u001b[1;32m     15\u001b[0m                 \u001b[0;34m(\u001b[0m\u001b[0;34m'multiNB'\u001b[0m \u001b[0;34m,\u001b[0m \u001b[0mMultinomialNB\u001b[0m\u001b[0;34m(\u001b[0m\u001b[0;34m)\u001b[0m\u001b[0;34m)\u001b[0m\u001b[0;34m,\u001b[0m\u001b[0;34m\u001b[0m\u001b[0m\n\u001b[0;32m---> 16\u001b[0;31m                 \u001b[0;34m(\u001b[0m\u001b[0;34m'kNN'\u001b[0m\u001b[0;34m,\u001b[0m \u001b[0mKNeighborsClassifier\u001b[0m\u001b[0;34m(\u001b[0m\u001b[0;34m)\u001b[0m\u001b[0;34m)\u001b[0m\u001b[0;34m\u001b[0m\u001b[0m\n\u001b[0m\u001b[1;32m     17\u001b[0m             ])\n\u001b[1;32m     18\u001b[0m \u001b[0;34m\u001b[0m\u001b[0m\n",
      "\u001b[0;32m/Users/hetal/anaconda/lib/python2.7/site-packages/sklearn/pipeline.pyc\u001b[0m in \u001b[0;36m__init__\u001b[0;34m(self, steps)\u001b[0m\n\u001b[1;32m     90\u001b[0m                 raise TypeError(\"All intermediate steps a the chain should \"\n\u001b[1;32m     91\u001b[0m                                 \u001b[0;34m\"be transforms and implement fit and transform\"\u001b[0m\u001b[0;34m\u001b[0m\u001b[0m\n\u001b[0;32m---> 92\u001b[0;31m                                 \" '%s' (type %s) doesn't)\" % (t, type(t)))\n\u001b[0m\u001b[1;32m     93\u001b[0m \u001b[0;34m\u001b[0m\u001b[0m\n\u001b[1;32m     94\u001b[0m         \u001b[0;32mif\u001b[0m \u001b[0;32mnot\u001b[0m \u001b[0mhasattr\u001b[0m\u001b[0;34m(\u001b[0m\u001b[0mestimator\u001b[0m\u001b[0;34m,\u001b[0m \u001b[0;34m\"fit\"\u001b[0m\u001b[0;34m)\u001b[0m\u001b[0;34m:\u001b[0m\u001b[0;34m\u001b[0m\u001b[0m\n",
      "\u001b[0;31mTypeError\u001b[0m: All intermediate steps a the chain should be transforms and implement fit and transform 'MultinomialNB(alpha=1.0, class_prior=None, fit_prior=True)' (type <class 'sklearn.naive_bayes.MultinomialNB'>) doesn't)"
     ]
    }
   ],
   "source": [
    "def P3():\n",
    "    ### STUDENT START ###\n",
    "    try:\n",
    "        #default CountVectorizer\n",
    "        def_vectorizer = CountVectorizer()\n",
    "        x_train = def_vectorizer.fit_transform(train_data)\n",
    "        x_dev   = def_vectorizer.transform(dev_data)\n",
    "        x_test =  def_vectorizer.transform(test_data)\n",
    "        k_values = {'n_neighbors':[1,3,5,7,9]}\n",
    "        knn = KNeighborsClassifier()\n",
    "        \n",
    "        \n",
    "        pipeline = Pipeline([\n",
    "                #( 'clf', LogisticRegression()),\n",
    "                ('multiNB' , MultinomialNB()),\n",
    "                ('kNN', KNeighborsClassifier())   \n",
    "            ])\n",
    "\n",
    "        parameters = {\n",
    "        #'clf__C': (1, 10),\n",
    "        #'clf__penalty': ('l1', 'l2'),\n",
    "        'multiNB__alpha':(1,0.1,0.01,0.001,0.0001,0),\n",
    "        'kNN__n_neighbors': (1,5,7,9,15,20,25,20,30,40,50,60,70,80,90,100,150,200,250,300),\n",
    "            }\n",
    "\n",
    "        \n",
    "        # Create and Initialise GridSearch  and fit on the binarized training data\n",
    "        grid_search = GridSearchCV(pipeline, parameters,refit=true)\n",
    "        grid_search.fit(x_train,train_labels)\n",
    "        \n",
    "        print(\"\\nPerforming grid search...\")\n",
    "        print(\"pipeline:\", [name for name, _ in pipeline.steps])\n",
    "        print(\"parameters:\")\n",
    "        pprint(parameters)\n",
    "\n",
    "        print \"Best Parameter found on Training data: \", grid_search.best_estimator_ \n",
    "        print(\"Grid scores on Mini Train set:\")\n",
    "        for params, mean_score, scores in grid_search.grid_scores_:\n",
    "            print(\"%0.3f (+/-%0.03f) for %r\" % (mean_score, scores.std() * 2, params))\n",
    "        \n",
    "        print(\"\\nBest score: {:0.3f}\".format(grid_search.best_score_))\n",
    "        print(\"\\nBest parameters set:\")\n",
    "        best_parameters = grid_search.best_estimator_.get_params()\n",
    "        for param_name in sorted(parameters.keys()):\n",
    "            print(\"\\t{}: {}\".format(param_name, best_parameters[param_name]))\n",
    "        \n",
    "        y_true, y_pred = dev_labels, grid_search.predict(x_dev)\n",
    "        print\"f1 score: \",(metrics.f1_score(y_true, y_pred))\n",
    "        \n",
    "\n",
    "        \n",
    "    except Exception as e:\n",
    "        print \"Exception Occured: \", e.args\n",
    "        raise\n",
    "        \n",
    "\n",
    "    ### STUDENT END ###\n",
    "P3()"
   ]
  },
  {
   "cell_type": "markdown",
   "metadata": {},
   "source": [
    "ANSWER:"
   ]
  },
  {
   "cell_type": "markdown",
   "metadata": {},
   "source": [
    "(4) Train a logistic regression model. Find the 5 features with the largest weights for each label -- 20 features in total. Create a table with 20 rows and 4 columns that shows the weight for each of these features for each of the labels. Create the table again with bigram features. Any surprising features in this table?"
   ]
  },
  {
   "cell_type": "code",
   "execution_count": 5,
   "metadata": {
    "collapsed": false
   },
   "outputs": [],
   "source": [
    "#def P4():\n",
    "### STUDENT START ###\n",
    "\n",
    "### STUDENT END ###\n",
    "#P4()"
   ]
  },
  {
   "cell_type": "markdown",
   "metadata": {},
   "source": [
    "ANSWER:"
   ]
  },
  {
   "cell_type": "markdown",
   "metadata": {},
   "source": [
    "(5) Try to improve the logistic regression classifier by passing a custom preprocessor to CountVectorizer. The preprocessing function runs on the raw text, before it is split into words by the tokenizer. Your preprocessor should try to normalize the input in various ways to improve generalization. For example, try lowercasing everything, replacing sequences of numbers with a single token, removing various other non-letter characters, and shortening long words. If you're not already familiar with regular expressions for manipulating strings, see https://docs.python.org/2/library/re.html, and re.sub() in particular. With your new preprocessor, how much did you reduce the size of the dictionary?\n",
    "\n",
    "For reference, I was able to improve dev F1 by 2 points."
   ]
  },
  {
   "cell_type": "code",
   "execution_count": 6,
   "metadata": {
    "collapsed": false
   },
   "outputs": [],
   "source": [
    "#def empty_preprocessor(s):\n",
    "#    return s\n",
    "\n",
    "#def better_preprocessor(s):\n",
    "### STUDENT START ###\n",
    "\n",
    "### STUDENT END ###\n",
    "\n",
    "#def P5():\n",
    "### STUDENT START ###\n",
    "\n",
    "### STUDENT END ###\n",
    "#P5()"
   ]
  },
  {
   "cell_type": "markdown",
   "metadata": {},
   "source": [
    "(6) The idea of regularization is to avoid learning very large weights (which are likely to fit the training data, but not generalize well) by adding a penalty to the total size of the learned weights. That is, logistic regression seeks the set of weights that minimizes errors in the training data AND has a small size. The default regularization, L2, computes this size as the sum of the squared weights (see P3, above). L1 regularization computes this size as the sum of the absolute values of the weights. The result is that whereas L2 regularization makes all the weights relatively small, L1 regularization drives lots of the weights to 0, effectively removing unimportant features.\n",
    "\n",
    "Train a logistic regression model using a \"l1\" penalty. Output the number of learned weights that are not equal to zero. How does this compare to the number of non-zero weights you get with \"l2\"? Now, reduce the size of the vocabulary by keeping only those features that have at least one non-zero weight and retrain a model using \"l2\".\n",
    "\n",
    "Make a plot showing accuracy of the re-trained model vs. the vocabulary size you get when pruning unused features by adjusting the C parameter.\n",
    "\n",
    "Note: The gradient descent code that trains the logistic regression model sometimes has trouble converging with extreme settings of the C parameter. Relax the convergence criteria by setting tol=.01 (the default is .0001)."
   ]
  },
  {
   "cell_type": "code",
   "execution_count": 15,
   "metadata": {
    "collapsed": false
   },
   "outputs": [],
   "source": [
    "#def P6():\n",
    "    # Keep this random seed here to make comparison easier.\n",
    "    #np.random.seed(0)\n",
    "\n",
    "    ### STUDENT START ###\n",
    "    \n",
    "    ### STUDENT END ###\n",
    "#P6()"
   ]
  },
  {
   "cell_type": "markdown",
   "metadata": {},
   "source": [
    "(7) Use the TfidfVectorizer -- how is this different from the CountVectorizer? Train a logistic regression model with C=100.\n",
    "\n",
    "Make predictions on the dev data and show the top 3 documents where the ratio R is largest, where R is:\n",
    "\n",
    "maximum predicted probability / predicted probability of the correct label\n",
    "\n",
    "What kinds of mistakes is the model making? Suggest a way to address one particular issue that you see."
   ]
  },
  {
   "cell_type": "code",
   "execution_count": 16,
   "metadata": {
    "collapsed": false
   },
   "outputs": [],
   "source": [
    "#def P7():\n",
    "### STUDENT START ###\n",
    "\n",
    "## STUDENT END ###\n",
    "#P7()"
   ]
  },
  {
   "cell_type": "markdown",
   "metadata": {},
   "source": [
    "ANSWER:"
   ]
  },
  {
   "cell_type": "markdown",
   "metadata": {},
   "source": [
    "(8) EXTRA CREDIT\n",
    "\n",
    "Try implementing one of your ideas based on your error analysis. Use logistic regression as your underlying model."
   ]
  },
  {
   "cell_type": "code",
   "execution_count": null,
   "metadata": {
    "collapsed": true
   },
   "outputs": [],
   "source": []
  },
  {
   "cell_type": "code",
   "execution_count": 93,
   "metadata": {
    "collapsed": false
   },
   "outputs": [
    {
     "name": "stdout",
     "output_type": "stream",
     "text": [
      "\n",
      "Acorn Replay running on a 25MHz ARM 3 processor (the ARM 3 is about 20% slower\n",
      "than the ARM 6) does this in software (off a standard CD-ROM). 16 bit colour at\n",
      "about the same resolution (so what if the computer only has 8 bit colour\n",
      "support, real-time dithering too...). The 3D0/O is supposed to have a couple of\n",
      "DSPs - the ARM being used for housekeeping.\n",
      "\n",
      "\n",
      "A 25MHz ARM 6xx should clock around 20 ARM MIPS, say 18 flat out. Depends\n",
      "really on the surrounding system and whether you are talking ARM6x or ARM6xx\n",
      "(the latter has a cache, and so is essential to run at this kind of speed with\n",
      "slower memory).\n",
      "\n",
      "I'll stop saying things there 'cos I'll hopefully be working for ARM after\n",
      "graduation...\n",
      "\n",
      "Mike\n",
      "\n",
      "PS Don't pay heed to what reps from Philips say; if the 3D0/O doesn't beat the\n",
      "   pants off 3DI then I'll eat this postscript.\n",
      "(828, 31)\n",
      "[u'0', u'1', u'2', u'3', u'5', u'6', u'8', u'a', u'b', u'c', u'd', u'e', u'f', u'g', u'h', u'i', u'k', u'l', u'm', u'n', u'o', u'p', u'r', u's', u't', u'u', u'v', u'w', u'x', u'y', u'z']\n"
     ]
    }
   ],
   "source": [
    "# extra space\n",
    "vectorizer = CountVectorizer(min_df=1,analyzer='word',token_pattern='(?u)\\\\b\\\\w+\\\\b')\n",
    "#vectorizer = CountVectorizer(min_df=1,analyzer='char',ngram_range=(1,3))\n",
    "# corpus = ['This is the first document.',\n",
    "#           'This is the second second document.',\n",
    "#           'And the third one.',\n",
    "#           'I Is this the first document?',\n",
    "#          ]\n",
    "corpus = train_data[7]\n",
    "print corpus\n",
    "X = vectorizer.fit_transform(corpus)\n",
    "print X.shape\n",
    "print vectorizer.get_feature_names()"
   ]
  },
  {
   "cell_type": "code",
   "execution_count": 86,
   "metadata": {
    "collapsed": false
   },
   "outputs": [
    {
     "data": {
      "text/plain": [
       "array([  1.00000000e+00,   1.00000000e-01,   1.00000000e-02,\n",
       "         1.00000000e-03,   1.00000000e-04,   0.00000000e+00])"
      ]
     },
     "execution_count": 86,
     "metadata": {},
     "output_type": "execute_result"
    }
   ],
   "source": [
    "#np.random.randint(low=1,high=200, size=15)\n",
    "np.array([1,0.1,0.01,0.001,0.0001,0])"
   ]
  },
  {
   "cell_type": "code",
   "execution_count": null,
   "metadata": {
    "collapsed": true
   },
   "outputs": [],
   "source": []
  }
 ],
 "metadata": {
  "kernelspec": {
   "display_name": "Python 2",
   "language": "python",
   "name": "python2"
  },
  "language_info": {
   "codemirror_mode": {
    "name": "ipython",
    "version": 2
   },
   "file_extension": ".py",
   "mimetype": "text/x-python",
   "name": "python",
   "nbconvert_exporter": "python",
   "pygments_lexer": "ipython2",
   "version": "2.7.10"
  }
 },
 "nbformat": 4,
 "nbformat_minor": 0
}
